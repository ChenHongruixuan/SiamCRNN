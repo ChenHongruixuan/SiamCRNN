{
 "cells": [
  {
   "cell_type": "code",
   "execution_count": null,
   "metadata": {},
   "outputs": [],
   "source": [
    "# Create a virtual environment with Python 3.8\n",
    "python -m venv env\n",
    "\n",
    "# Activate the virtual environment\n",
    "source env/bin/activate\n",
    "\n",
    "# Upgrade pip to the latest version\n",
    "pip install --upgrade pip\n",
    "\n",
    "# Install the required packages\n",
    "pip install torch==1.21.1 torchvision==0.13.1 imageio==2.22.4 numpy==1.14.0 tqdm==4.64.1\n",
    "\n",
    "# Run the training script\n",
    "python train_siamcrnn.py"
   ]
  }
 ],
 "metadata": {
  "language_info": {
   "name": "python"
  }
 },
 "nbformat": 4,
 "nbformat_minor": 2
}
